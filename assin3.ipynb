{
 "cells": [
  {
   "cell_type": "markdown",
   "id": "59fc32f3-d06b-41b1-a3d7-5d1a5d78a757",
   "metadata": {},
   "source": [
    "Python keywords are special reserved words that have specific meanings and purposes and can’t be used for anything but those specific purposes. These keywords are always available—you’ll never have to import them into your code.\n",
    "examples are print,int,float,True,False"
   ]
  },
  {
   "cell_type": "markdown",
   "id": "69267842-88a0-4fb2-8087-424ebef08019",
   "metadata": {},
   "source": [
    "All the variables, class, object, functions, lists, dictionaries etc. in Python are together termed as Python Identifiers. Identifiers are the basis of any Python program. Almost every Python Code uses some or other identifiers.\n",
    "\n",
    "identifier are not keywors\n",
    "identifier written by the coder\n",
    "examples all variables like a \n",
    "they cannot start with the underscore"
   ]
  },
  {
   "cell_type": "markdown",
   "id": "d1ac5fb8-49ea-4156-8378-dac7c5e8bd24",
   "metadata": {},
   "source": [
    "comments are used in the python to rembering the things that we want to write with the code\n",
    "by applying the comments on the written lines thes lines are not excute by the python program\n",
    "\n",
    "comment can be apply by cntrl+/or \n",
    "example of comment is \n",
    "#this code helps in "
   ]
  },
  {
   "cell_type": "markdown",
   "id": "54218248-e873-4ccc-b5ca-e5f573ce6d0b",
   "metadata": {},
   "source": [
    "Indentation refers to the spaces at the beginning of a code line.\n",
    "\n",
    "Where in other programming languages the indentation in code is for readability only, the indentation in Python is very important.\n",
    "\n",
    "Python uses indentation to indicate a block of code\n",
    "\n",
    "if 5 > 2:\n",
    "  print(\"Five is greater than two!\")"
   ]
  },
  {
   "cell_type": "markdown",
   "id": "91e20f40-2b63-4e59-87bc-057047608f48",
   "metadata": {},
   "source": [
    "if the identation in the python programme in not written\n",
    "the python programme will show the error "
   ]
  },
  {
   "cell_type": "markdown",
   "id": "96cab1bb-ef75-4612-960f-c091d79a9a1c",
   "metadata": {},
   "source": [
    "Statements:\n",
    "\n",
    "Statements are commands that perform actions or tasks.\n",
    "They often contain keywords or operators to perform an operation.\n",
    "Examples of statements include assignment statements, control flow statements (like if, for, while), import statements, etc.\n",
    "Statements don't necessarily produce a value.\n",
    "Expressions:\n",
    "\n",
    "Expressions, on the other hand, are combinations of variables, operators, and method calls that evaluate to a value.\n",
    "They can be thought of as anything that has a value.\n",
    "Examples of expressions include mathematical calculations, function calls, list comprehensions, etc.\n",
    "Expressions are often used within statements to produce or manipulate values"
   ]
  },
  {
   "cell_type": "code",
   "execution_count": null,
   "id": "26bac383-5420-4966-80d4-dc5adb96d2f3",
   "metadata": {},
   "outputs": [],
   "source": []
  }
 ],
 "metadata": {
  "kernelspec": {
   "display_name": "Python 3 (ipykernel)",
   "language": "python",
   "name": "python3"
  },
  "language_info": {
   "codemirror_mode": {
    "name": "ipython",
    "version": 3
   },
   "file_extension": ".py",
   "mimetype": "text/x-python",
   "name": "python",
   "nbconvert_exporter": "python",
   "pygments_lexer": "ipython3",
   "version": "3.10.8"
  }
 },
 "nbformat": 4,
 "nbformat_minor": 5
}
